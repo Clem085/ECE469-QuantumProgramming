{
 "cells": [
  {
   "cell_type": "markdown",
   "metadata": {
    "id": "VyY5hDTlzB4w"
   },
   "source": [
    "##### Intro to Quantum Programming - Spring 2025\n",
    "## Homework 2: Due 02/21/25\n",
    "\n",
    "For each exercise below, add as many cells as you want. To evaluate your submission, I will do **Restart and Run All**. . For help with Markdown, see [this link](https://www.markdownguide.org/)."
   ]
  },
  {
   "cell_type": "code",
   "execution_count": null,
   "metadata": {
    "id": "1Gj9pZEezB4z"
   },
   "outputs": [
    {
     "name": "stdout",
     "output_type": "stream",
     "text": [
      "Requirement already satisfied: colorcet in ./.venv/lib/python3.13/site-packages (3.1.0)\n"
     ]
    }
   ],
   "source": [
    "# Here's a cell for import statements... add more if necessary (or just import below as needed)\n",
    "from qiskit import QuantumRegister, QuantumCircuit, ClassicalRegister\n",
    "from qiskit_aer import AerSimulator\n",
    "from qiskit import transpile\n",
    "\n",
    "from qiskit.visualization import plot_histogram, plot_bloch_multivector, plot_distribution, plot_state_qsphere, plot_state_city\n",
    "from qiskit.quantum_info import Statevector\n",
    "from qiskit.primitives import StatevectorSampler as Sampler\n",
    "import numpy as np\n",
    "from sv_disc import *"
   ]
  },
  {
   "cell_type": "markdown",
   "metadata": {
    "id": "KOiHoCHNzB40"
   },
   "source": [
    "For all the exercises below, you may use the multi-controlled Toffoli gate (known as `mcx`), but don't use higher-level gates from the circuit library, such as AND/OR, adders, comparators, etc. This assignment is about learning how to build those things.\n",
    "\n",
    "NOTE: This assignment is also about creating modular and reusable software, not just creating quantum circuits. Write Python functions and learn about the Qiskit methods of composing circuits."
   ]
  },
  {
   "cell_type": "markdown",
   "metadata": {},
   "source": [
    "---- \n",
    "**IMPORTANT**: If any ancilla qubits are used in the circuits below, they must be *uncomputed* to restore them to zero. Failure to uncompute will lead to point deductions."
   ]
  },
  {
   "cell_type": "markdown",
   "metadata": {
    "id": "YM6RxfrRzB40"
   },
   "source": [
    "----\n",
    "#### Exercise 2.1 (30%)\n",
    "\n",
    "Define a **function** that creates a quantum circuit that adds a specified $4$-bit *unsigned* integer value to a $4$-qubit input, which represents an unsigned integer. NOTE: This is not to add two quantum numbers together. This is to increment a number by a fixed integer amount. The function must return a `QuantumCircuit` object.\n",
    "\n",
    "Demonstrate your function with the following increment amounts: $5$, $6$, and $10$. But your function must work with any 4-bit number, and the grader will try other inputs. For each increment value, draw the resulting circuit and verify that it works as expected on classical and superposition states.\n",
    "\n",
    "For *creativity* points, try to minimize the number of gates required in the circuit. In other words, repeating the +1 circuit $n$ times will work, but try to do better. Consider the examples of $+4$ and $+12$ in the textbook."
   ]
  },
  {
   "cell_type": "markdown",
   "metadata": {},
   "source": [
    "I used Qiskit to check my circuit implementation. Below are the circuits.\n",
    "\n",
    "+5\n",
    "https://algassert.com/quirk#circuit=%7B%22cols%22:%5B%5B%22X%22%5D,%5B%22%E2%80%A2%22,%22%E2%80%A2%22,%22X%22%5D%5D%7D\n",
    "\n",
    "+6\n",
    "\n",
    "\n",
    "+10"
   ]
  },
  {
   "cell_type": "code",
   "execution_count": 7,
   "metadata": {},
   "outputs": [
    {
     "name": "stdout",
     "output_type": "stream",
     "text": [
      "Circuit for incrementing by 5:\n"
     ]
    },
    {
     "data": {
      "image/png": "[encoded data removed]",
      "text/plain": [
       "<Figure size 287.496x367.889 with 1 Axes>"
      ]
     },
     "metadata": {},
     "output_type": "display_data"
    },
    {
     "name": "stdout",
     "output_type": "stream",
     "text": [
      "Circuit for incrementing by 6:\n"
     ]
    },
    {
     "data": {
      "image/png": "[encoded data removed]",
      "text/plain": [
       "<Figure size 287.496x367.889 with 1 Axes>"
      ]
     },
     "metadata": {},
     "output_type": "display_data"
    },
    {
     "name": "stdout",
     "output_type": "stream",
     "text": [
      "Circuit for incrementing by 10:\n"
     ]
    },
    {
     "data": {
      "image/png": "[encoded data removed]",
      "text/plain": [
       "<Figure size 287.496x367.889 with 1 Axes>"
      ]
     },
     "metadata": {},
     "output_type": "display_data"
    }
   ],
   "source": [
    "# incr = [5,6,10]\n",
    "# qr = QuantumRegister(4, 'q')\n",
    "# qc = QuantumCircuit(4);\n",
    "\n",
    "# # Add mcx Gates\n",
    "# qc[0]\n",
    "\n",
    "\n",
    "\n",
    "def increment_4bit_qc(increment: int):\n",
    "    \"\"\"\n",
    "    Create a quantum circuit that adds a fixed 4-bit unsigned integer to a 4-qubit input using control gates.\n",
    "    \n",
    "    Parameters:\n",
    "        increment (int): The unsigned 4-bit integer value to add.\n",
    "    \n",
    "    Returns:\n",
    "        QuantumCircuit: The quantum circuit implementing the controlled increment operation.\n",
    "    \"\"\"\n",
    "    if increment < 0 or increment > 15:\n",
    "        raise ValueError(\"Increment must be a 4-bit unsigned integer (0 to 15).\")\n",
    "    \n",
    "    qr = QuantumRegister(4, 'q')  # 4-qubit register for the number\n",
    "    qc = QuantumCircuit(qr)\n",
    "    \n",
    "    # Convert the increment value to binary\n",
    "    binary_inc = f\"{increment:04b}\"[::-1]  # Reverse for correct bit ordering\n",
    "    \n",
    "    # Apply controlled X gates to perform addition\n",
    "    for i in range(4):\n",
    "        if binary_inc[i] == '1':\n",
    "            if i == 0:\n",
    "                qc.x(qr[i])\n",
    "            else:\n",
    "                qc.mcx(qr[:i], qr[i])  # Multi-controlled X to ensure minimal gate usage\n",
    "    \n",
    "    return qc\n",
    "\n",
    "# Demonstrate for increment values 5, 6, and 10\n",
    "increment_values = [5, 6, 10]\n",
    "circuits = {}\n",
    "for inc in increment_values:\n",
    "    circuits[inc] = increment_4bit_qc(inc)\n",
    "    print(f\"Circuit for incrementing by {inc}:\")\n",
    "    display(circuits[inc].draw('mpl'))\n"
   ]
  },
  {
   "cell_type": "markdown",
   "metadata": {
    "id": "wFrnmIYmzB47"
   },
   "source": [
    "----\n",
    "#### Exercise 2.2 (20%)\n",
    "\n",
    "Define a **function** that contructs a circuit to test whether a four-qubit input is equal to a specified $4$-bit value ($n$). The circuit will use five qubits: four for the register to test, and one for the result.\n",
    "\n",
    "Draw the circuit returned by the function for $n = 6$. Show the result of running the circuit on an input state that is an *equal superposition* of all computational basis states."
   ]
  },
  {
   "cell_type": "code",
   "execution_count": null,
   "metadata": {},
   "outputs": [],
   "source": []
  },
  {
   "cell_type": "markdown",
   "metadata": {
    "id": "MCe6uIhUzB48"
   },
   "source": [
    "----\n",
    "#### Exercise 2.3 (25%)\n",
    "\n",
    "Using the functions from 2.1 and 2.2 as building blocks, define a **function** that builds a circuit that has two four-qubit quantum registers -- we'll call them $a$ and $b$. The function should include a 4-bit unsigned integer ($n$), and it should increment $b$ by $n$ if and only if $a = n$.  The arguments to your function will be two `QuantumRegister` objects and the integer $n$.\n",
    "\n",
    "The extra qubit used for the equality test (2.2) should not be included in the parameters of your function. That qubit will be created and used by your function, but will not be provided by the caller of your function. In other words, this is an *ancilla* qubit that is only used for a temporary purpose.\n",
    "\n",
    "Demonstrate the circuit."
   ]
  },
  {
   "cell_type": "code",
   "execution_count": null,
   "metadata": {},
   "outputs": [],
   "source": []
  },
  {
   "cell_type": "markdown",
   "metadata": {
    "id": "lONCm23tzB49"
   },
   "source": [
    "----\n",
    "#### Exercise 2.4 (25%)\n",
    "\n",
    "Define a **function** that creates a quantum circuit that creates a 4-qubit equal superposition of computational basis states and then selectively changes the phase of a designated set of basis states. The function has one parameter: a list of integer values that specify the computational bases that will be phase-shifted.  (You may assume that the values are 4-bit integers (0-15).)\n",
    "\n",
    "For this assignment, the desired phase shift is $90^\\circ$ (or $\\pi/2$).\n",
    "\n",
    "For example, suppose the argument is `[2, 9]`.  The output is an equal superposition of $|0\\rangle$ through $|15\\rangle$ (hint: Hadamard gates!) and states $|2\\rangle$ and $|9\\rangle$ will be rotated by $\\pi/2$.\n",
    "\n",
    "Draw the circuit and demonstrate that it works correctly for at least two different \"interesting\" lists. (Consider how to clearly display that the circuit performs correctly.)\n",
    "\n",
    "You may define additional functions, if desired, and you may use functions that were defined in previous exercises."
   ]
  },
  {
   "cell_type": "code",
   "execution_count": null,
   "metadata": {},
   "outputs": [],
   "source": []
  }
 ],
 "metadata": {
  "colab": {
   "provenance": []
  },
  "kernelspec": {
   "display_name": ".venv",
   "language": "python",
   "name": "python3"
  },
  "language_info": {
   "codemirror_mode": {
    "name": "ipython",
    "version": 3
   },
   "file_extension": ".py",
   "mimetype": "text/x-python",
   "name": "python",
   "nbconvert_exporter": "python",
   "pygments_lexer": "ipython3",
   "version": "3.13.1"
  }
 },
 "nbformat": 4,
 "nbformat_minor": 4
}
