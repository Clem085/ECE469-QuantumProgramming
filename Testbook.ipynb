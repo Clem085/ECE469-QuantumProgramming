{
 "cells": [
  {
   "cell_type": "code",
   "execution_count": 1,
   "metadata": {},
   "outputs": [
    {
     "ename": "SyntaxError",
     "evalue": "invalid syntax (3002142966.py, line 1)",
     "output_type": "error",
     "traceback": [
      "\u001b[0;36m  Cell \u001b[0;32mIn[1], line 1\u001b[0;36m\u001b[0m\n\u001b[0;31m    echo \"Hello World!\"\u001b[0m\n\u001b[0m         ^\u001b[0m\n\u001b[0;31mSyntaxError\u001b[0m\u001b[0;31m:\u001b[0m invalid syntax\n"
     ]
    }
   ],
   "source": [
    "echo \"Hello World!\""
   ]
  },
  {
   "cell_type": "code",
   "execution_count": 1,
   "metadata": {},
   "outputs": [
    {
     "name": "stdout",
     "output_type": "stream",
     "text": [
      "     \n",
      "q_0: \n",
      "     \n",
      "q_1: \n",
      "     \n",
      "c: 3/\n",
      "     \n",
      "     ┌───┐┌─┐\n",
      "q_0: ┤ H ├┤M├\n",
      "     └┬─┬┘└╥┘\n",
      "q_1: ─┤M├──╫─\n",
      "      └╥┘  ║ \n",
      "c: 3/══╩═══╩═\n",
      "       1   0 \n"
     ]
    }
   ],
   "source": [
    "import qiskit\n",
    "ckt = qiskit.QuantumCircuit(2,3)\n",
    "print(ckt)\n",
    "ckt.h(0)\n",
    "\n",
    "# Measure the qubits\n",
    "ckt.measure([0, 1], [0, 1])\n",
    "\n",
    "# Print Measurements\n",
    "print(ckt)\n"
   ]
  }
 ],
 "metadata": {
  "kernelspec": {
   "display_name": ".venv",
   "language": "python",
   "name": "python3"
  },
  "language_info": {
   "codemirror_mode": {
    "name": "ipython",
    "version": 3
   },
   "file_extension": ".py",
   "mimetype": "text/x-python",
   "name": "python",
   "nbconvert_exporter": "python",
   "pygments_lexer": "ipython3",
   "version": "3.13.1"
  }
 },
 "nbformat": 4,
 "nbformat_minor": 2
}
